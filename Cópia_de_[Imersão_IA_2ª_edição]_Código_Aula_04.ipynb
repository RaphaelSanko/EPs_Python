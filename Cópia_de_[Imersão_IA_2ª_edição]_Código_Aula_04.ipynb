{
  "cells": [
    {
      "cell_type": "markdown",
      "metadata": {
        "id": "view-in-github",
        "colab_type": "text"
      },
      "source": [
        "<a href=\"https://colab.research.google.com/github/RaphaelSanko/EPs_Python/blob/main/C%C3%B3pia_de_%5BImers%C3%A3o_IA_2%C2%AA_edi%C3%A7%C3%A3o%5D_C%C3%B3digo_Aula_04.ipynb\" target=\"_parent\"><img src=\"https://colab.research.google.com/assets/colab-badge.svg\" alt=\"Open In Colab\"/></a>"
      ]
    },
    {
      "cell_type": "code",
      "execution_count": 2,
      "metadata": {
        "id": "nFQLKQ6hfXch"
      },
      "outputs": [],
      "source": [
        "#Instalando o SDK do Google\n",
        "!pip install -q -U google-generativeai"
      ]
    },
    {
      "cell_type": "code",
      "execution_count": 3,
      "metadata": {
        "id": "IthzwfnAfcsi"
      },
      "outputs": [],
      "source": [
        "#Configurações iniciais\n",
        "import google.generativeai as genai\n",
        "\n",
      
        "genai.configure(api_key=GOOGLE_API_KEY)"
      ]
    },
    {
      "cell_type": "code",
      "execution_count": null,
      "metadata": {
        "colab": {
          "base_uri": "https://localhost:8080/",
          "height": 139
        },
        "id": "iD3ihugymWBt",
        "outputId": "1cef9870-4810-4ddd-d227-7ca4899bc772"
      },
      "outputs": [
        {
          "output_type": "stream",
          "name": "stdout",
          "text": [
            "models/gemini-1.0-pro\n",
            "models/gemini-1.0-pro-001\n",
            "models/gemini-1.0-pro-latest\n",
            "models/gemini-1.0-pro-vision-latest\n",
            "models/gemini-1.5-pro-latest\n",
            "models/gemini-pro\n",
            "models/gemini-pro-vision\n"
          ]
        }
      ],
      "source": [
        "#Listando os modelos disponíveis\n",
        "for m in genai.list_models():\n",
        "  if 'generateContent' in m.supported_generation_methods:\n",
        "    print(m.name)"
      ]
    },
    {
      "cell_type": "code",
      "execution_count": 4,
      "metadata": {
        "id": "O1ochaeyDn_o"
      },
      "outputs": [],
      "source": [
        "generation_config = {\n",
        "  \"candidate_count\": 1,\n",
        "  \"temperature\": 0.5,\n",
        "}"
      ]
    },
    {
      "cell_type": "code",
      "execution_count": 5,
      "metadata": {
        "id": "jwBv7DofDofw"
      },
      "outputs": [],
      "source": [
        "safety_settings={\n",
        "    'HATE': 'BLOCK_NONE',\n",
        "    'HARASSMENT': 'BLOCK_NONE',\n",
        "    'SEXUAL' : 'BLOCK_NONE',\n",
        "    'DANGEROUS' : 'BLOCK_NONE'\n",
        "    }"
      ]
    },
    {
      "cell_type": "code",
      "execution_count": 6,
      "metadata": {
        "id": "NIiSs1R5mVJE"
      },
      "outputs": [],
      "source": [
        "model = genai.GenerativeModel(model_name='gemini-1.0-pro',\n",
        "                                  generation_config=generation_config,\n",
        "                                  safety_settings=safety_settings,)"
      ]
    },
    {
      "cell_type": "code",
      "execution_count": null,
      "metadata": {
        "colab": {
          "base_uri": "https://localhost:8080/",
          "height": 35
        },
        "id": "vrRjhT2rlrU_",
        "outputId": "4658bd1e-9109-44b0-e916-497b9bcc5548"
      },
      "outputs": [
        {
          "output_type": "execute_result",
          "data": {
            "text/plain": [
              "'Google'"
            ],
            "application/vnd.google.colaboratory.intrinsic+json": {
              "type": "string"
            }
          },
          "metadata": {},
          "execution_count": 7
        }
      ],
      "source": [
        "response = model.generate_content(\"Que empresa criou o modelo de IA Gemini?\")\n",
        "response.text"
      ]
    },
    {
      "cell_type": "code",
      "execution_count": 11,
      "metadata": {
        "id": "KpaQ6hm5f2_J",
        "colab": {
          "base_uri": "https://localhost:8080/",
          "height": 870
        },
        "outputId": "d1ff964e-4b8d-4b70-8b8d-df8340065774"
      },
      "outputs": [
        {
          "name": "stdout",
          "output_type": "stream",
          "text": [
            "Esperando prompt: o que você sabe sobre Kingdom Hearts\n",
            "Resposta: **Kingdom Hearts** é uma série de videogames de RPG de ação desenvolvida e publicada pela Square Enix. A série é um crossover entre as franquias Final Fantasy da Square Enix e Disney.\n",
            "\n",
            "**História:**\n",
            "\n",
            "A série segue Sora, um jovem que empunha a Keyblade, uma arma mágica que pode abrir portais para outros mundos. Sora viaja por mundos inspirados nos filmes da Disney, lutando contra as forças das trevas conhecidas como Heartless e Nobodies. Ele é acompanhado por seus amigos Riku e Kairi, bem como por vários personagens da Disney, como Pateta, Donald e Mickey Mouse.\n",
            "\n",
            "**Jogabilidade:**\n",
            "\n",
            "Os jogos Kingdom Hearts são RPGs de ação que combinam combate em tempo real com elementos de plataforma. Os jogadores controlam Sora enquanto ele explora mundos, derrota inimigos e resolve quebra-cabeças. A série é conhecida por sua jogabilidade envolvente, história cativante e personagens carismáticos.\n",
            "\n",
            "**Principais títulos:**\n",
            "\n",
            "* Kingdom Hearts (2002)\n",
            "* Kingdom Hearts: Chain of Memories (2004)\n",
            "* Kingdom Hearts II (2005)\n",
            "* Kingdom Hearts: Birth by Sleep (2010)\n",
            "* Kingdom Hearts: Dream Drop Distance (2012)\n",
            "* Kingdom Hearts III (2019)\n",
            "\n",
            "**Spin-offs:**\n",
            "\n",
            "Além dos jogos principais, a série Kingdom Hearts também inclui vários spin-offs, como:\n",
            "\n",
            "* Kingdom Hearts 358/2 Days (2009)\n",
            "* Kingdom Hearts Re:coded (2010)\n",
            "* Kingdom Hearts χ (2013)\n",
            "* Kingdom Hearts Unchained χ (2015)\n",
            "* Kingdom Hearts Dark Road (2020)\n",
            "\n",
            "**Temas:**\n",
            "\n",
            "A série Kingdom Hearts explora temas de amizade, amor, perda e a batalha entre o bem e o mal. Os jogos também enfatizam a importância de seguir seu coração e acreditar em si mesmo.\n",
            "\n",
            "**Recepção:**\n",
            "\n",
            "A série Kingdom Hearts foi um sucesso comercial e crítico. Os jogos venderam coletivamente mais de 35 milhões de cópias em todo o mundo e receberam elogios por sua jogabilidade, história e personagens. \n",
            "\n",
            "\n",
            "Esperando prompt: qual o primeiro chefe de kingdom hearts I\n",
            "Resposta: O primeiro chefe de Kingdom Hearts I é **Shadow heartless**.\n",
            "\n",
            "Shadow heartless é uma criatura escura e semelhante a um lobo que Sora encontra no Cemitério dos Keyblades. É um chefe relativamente fácil, mas pode ser desafiador para jogadores novatos.\n",
            "\n",
            "Para derrotar Shadow heartless, Sora deve usar ataques físicos e mágicos. Ele também pode usar o comando \"Cura\" para se curar. Depois de derrotar Shadow heartless, Sora receberá a Keyblade \"Kingdom Key\". \n",
            "\n",
            "\n",
            "Esperando prompt: fim\n"
          ]
        }
      ],
      "source": [
        "chat = model.start_chat(history=[])\n",
        "\n",
        "prompt = input('Esperando prompt: ')\n",
        "\n",
        "while prompt != \"fim\":\n",
        "  response = chat.send_message(prompt)\n",
        "  print(\"Resposta:\", response.text, '\\n\\n')\n",
        "  prompt = input('Esperando prompt: ')"
      ]
    },
    {
      "cell_type": "code",
      "execution_count": null,
      "metadata": {
        "id": "XLAniTTDhHNW"
      },
      "outputs": [],
      "source": [
        "chat"
      ]
    },
    {
      "cell_type": "code",
      "execution_count": 8,
      "metadata": {
        "id": "sd8mvW9KghTf",
        "colab": {
          "base_uri": "https://localhost:8080/"
        },
        "outputId": "c929b481-3493-4a4d-8a05-c94f708d541c"
      },
      "outputs": [
        {
          "output_type": "execute_result",
          "data": {
            "text/plain": [
              "[]"
            ]
          },
          "metadata": {},
          "execution_count": 8
        }
      ],
      "source": [
        "chat.history"
      ]
    },
    {
      "cell_type": "code",
      "execution_count": null,
      "metadata": {
        "id": "dAcbPBocgzeX"
      },
      "outputs": [],
      "source": [
        "#Melhorando a visualização\n",
        "#Código disponível em https://ai.google.dev/tutorials/python_quickstart#import_packages\n",
        "import textwrap\n",
        "from IPython.display import display\n",
        "from IPython.display import Markdown\n",
        "\n",
        "def to_markdown(text):\n",
        "  text = text.replace('•', '  *')\n",
        "  return Markdown(textwrap.indent(text, '> ', predicate=lambda _: True))\n",
        "\n",
        "#Imprimindo o histórico\n",
        "for message in chat.history:\n",
        "  display(to_markdown(f'**{message.role}**: {message.parts[0].text}'))\n",
        "  print('-------------------------------------------')"
      ]
    }
  ],
  "metadata": {
    "colab": {
      "provenance": [],
      "include_colab_link": true
    },
    "kernelspec": {
      "display_name": "Python 3",
      "name": "python3"
    },
    "language_info": {
      "name": "python"
    }
  },
  "nbformat": 4,
  "nbformat_minor": 0
}
